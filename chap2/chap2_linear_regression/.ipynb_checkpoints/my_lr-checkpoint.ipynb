{
 "cells": [
  {
   "cell_type": "markdown",
   "metadata": {},
   "source": [
    "准备数据"
   ]
  },
  {
   "cell_type": "code",
   "execution_count": 1,
   "metadata": {},
   "outputs": [
    {
     "ename": "ModuleNotFoundError",
     "evalue": "No module named 'pandas'",
     "output_type": "error",
     "traceback": [
      "\u001b[1;31m---------------------------------------------------------------------------\u001b[0m",
      "\u001b[1;31mModuleNotFoundError\u001b[0m                       Traceback (most recent call last)",
      "\u001b[1;32m<ipython-input-1-fa18575525b6>\u001b[0m in \u001b[0;36m<module>\u001b[1;34m\u001b[0m\n\u001b[0;32m      1\u001b[0m \u001b[1;32mimport\u001b[0m \u001b[0mnumpy\u001b[0m \u001b[1;32mas\u001b[0m \u001b[0mnp\u001b[0m\u001b[1;33m\u001b[0m\u001b[1;33m\u001b[0m\u001b[0m\n\u001b[1;32m----> 2\u001b[1;33m \u001b[1;32mimport\u001b[0m \u001b[0mpandas\u001b[0m \u001b[1;32mas\u001b[0m \u001b[0mpd\u001b[0m\u001b[1;33m\u001b[0m\u001b[1;33m\u001b[0m\u001b[0m\n\u001b[0m\u001b[0;32m      3\u001b[0m \u001b[1;32mimport\u001b[0m \u001b[0mmatplotlib\u001b[0m\u001b[1;33m.\u001b[0m\u001b[0mpyplot\u001b[0m \u001b[1;32mas\u001b[0m \u001b[0mplt\u001b[0m\u001b[1;33m\u001b[0m\u001b[1;33m\u001b[0m\u001b[0m\n",
      "\u001b[1;31mModuleNotFoundError\u001b[0m: No module named 'pandas'"
     ]
    }
   ],
   "source": [
    "import numpy as np\n",
    "import pandas as pd\n",
    "import matplotlib.pyplot as plt"
   ]
  },
  {
   "cell_type": "code",
   "execution_count": null,
   "metadata": {},
   "outputs": [],
   "source": []
  },
  {
   "cell_type": "code",
   "execution_count": 2,
   "metadata": {},
   "outputs": [
    {
     "ename": "NameError",
     "evalue": "name 'pd' is not defined",
     "output_type": "error",
     "traceback": [
      "\u001b[1;31m---------------------------------------------------------------------------\u001b[0m",
      "\u001b[1;31mNameError\u001b[0m                                 Traceback (most recent call last)",
      "\u001b[1;32m<ipython-input-2-1d9096aa8aed>\u001b[0m in \u001b[0;36m<module>\u001b[1;34m\u001b[0m\n\u001b[1;32m----> 1\u001b[1;33m \u001b[0mtrain\u001b[0m \u001b[1;33m=\u001b[0m \u001b[0mpd\u001b[0m\u001b[1;33m.\u001b[0m\u001b[0mread_table\u001b[0m\u001b[1;33m(\u001b[0m\u001b[1;34m\"train.txt\"\u001b[0m\u001b[1;33m,\u001b[0m \u001b[0msep\u001b[0m\u001b[1;33m=\u001b[0m\u001b[1;34m'\\t'\u001b[0m\u001b[1;33m,\u001b[0m \u001b[0mheader\u001b[0m\u001b[1;33m=\u001b[0m\u001b[1;32mNone\u001b[0m\u001b[1;33m)\u001b[0m\u001b[1;33m\u001b[0m\u001b[1;33m\u001b[0m\u001b[0m\n\u001b[0m",
      "\u001b[1;31mNameError\u001b[0m: name 'pd' is not defined"
     ]
    }
   ],
   "source": [
    "train = pd.read_table(\"train.txt\", sep='\\t', header=None)"
   ]
  },
  {
   "cell_type": "code",
   "execution_count": 3,
   "metadata": {},
   "outputs": [
    {
     "ename": "NameError",
     "evalue": "name 'train' is not defined",
     "output_type": "error",
     "traceback": [
      "\u001b[1;31m---------------------------------------------------------------------------\u001b[0m",
      "\u001b[1;31mNameError\u001b[0m                                 Traceback (most recent call last)",
      "\u001b[1;32m<ipython-input-3-8e32047e823b>\u001b[0m in \u001b[0;36m<module>\u001b[1;34m\u001b[0m\n\u001b[1;32m----> 1\u001b[1;33m \u001b[0mtrain\u001b[0m\u001b[1;33m.\u001b[0m\u001b[0mcolumns\u001b[0m \u001b[1;33m=\u001b[0m \u001b[1;33m[\u001b[0m\u001b[1;34m'x'\u001b[0m\u001b[1;33m,\u001b[0m \u001b[1;34m'y'\u001b[0m\u001b[1;33m]\u001b[0m\u001b[1;33m\u001b[0m\u001b[1;33m\u001b[0m\u001b[0m\n\u001b[0m",
      "\u001b[1;31mNameError\u001b[0m: name 'train' is not defined"
     ]
    }
   ],
   "source": [
    "train.columns = ['x', 'y']"
   ]
  },
  {
   "cell_type": "code",
   "execution_count": 26,
   "metadata": {},
   "outputs": [
    {
     "data": {
      "text/html": [
       "<div>\n",
       "<style scoped>\n",
       "    .dataframe tbody tr th:only-of-type {\n",
       "        vertical-align: middle;\n",
       "    }\n",
       "\n",
       "    .dataframe tbody tr th {\n",
       "        vertical-align: top;\n",
       "    }\n",
       "\n",
       "    .dataframe thead th {\n",
       "        text-align: right;\n",
       "    }\n",
       "</style>\n",
       "<table border=\"1\" class=\"dataframe\">\n",
       "  <thead>\n",
       "    <tr style=\"text-align: right;\">\n",
       "      <th></th>\n",
       "      <th>x</th>\n",
       "      <th>y</th>\n",
       "    </tr>\n",
       "  </thead>\n",
       "  <tbody>\n",
       "    <tr>\n",
       "      <th>0</th>\n",
       "      <td>2.65</td>\n",
       "      <td>4.06609</td>\n",
       "    </tr>\n",
       "    <tr>\n",
       "      <th>1</th>\n",
       "      <td>4.70</td>\n",
       "      <td>1.70023</td>\n",
       "    </tr>\n",
       "    <tr>\n",
       "      <th>2</th>\n",
       "      <td>14.25</td>\n",
       "      <td>17.23092</td>\n",
       "    </tr>\n",
       "    <tr>\n",
       "      <th>3</th>\n",
       "      <td>22.10</td>\n",
       "      <td>21.77409</td>\n",
       "    </tr>\n",
       "    <tr>\n",
       "      <th>4</th>\n",
       "      <td>10.55</td>\n",
       "      <td>7.84291</td>\n",
       "    </tr>\n",
       "    <tr>\n",
       "      <th>...</th>\n",
       "      <td>...</td>\n",
       "      <td>...</td>\n",
       "    </tr>\n",
       "    <tr>\n",
       "      <th>295</th>\n",
       "      <td>24.30</td>\n",
       "      <td>22.08066</td>\n",
       "    </tr>\n",
       "    <tr>\n",
       "      <th>296</th>\n",
       "      <td>7.35</td>\n",
       "      <td>9.97700</td>\n",
       "    </tr>\n",
       "    <tr>\n",
       "      <th>297</th>\n",
       "      <td>5.20</td>\n",
       "      <td>2.54964</td>\n",
       "    </tr>\n",
       "    <tr>\n",
       "      <th>298</th>\n",
       "      <td>10.10</td>\n",
       "      <td>8.22479</td>\n",
       "    </tr>\n",
       "    <tr>\n",
       "      <th>299</th>\n",
       "      <td>1.55</td>\n",
       "      <td>4.54935</td>\n",
       "    </tr>\n",
       "  </tbody>\n",
       "</table>\n",
       "<p>300 rows × 2 columns</p>\n",
       "</div>"
      ],
      "text/plain": [
       "         x         y\n",
       "0     2.65   4.06609\n",
       "1     4.70   1.70023\n",
       "2    14.25  17.23092\n",
       "3    22.10  21.77409\n",
       "4    10.55   7.84291\n",
       "..     ...       ...\n",
       "295  24.30  22.08066\n",
       "296   7.35   9.97700\n",
       "297   5.20   2.54964\n",
       "298  10.10   8.22479\n",
       "299   1.55   4.54935\n",
       "\n",
       "[300 rows x 2 columns]"
      ]
     },
     "execution_count": 26,
     "metadata": {},
     "output_type": "execute_result"
    }
   ],
   "source": [
    "train"
   ]
  },
  {
   "cell_type": "code",
   "execution_count": 27,
   "metadata": {},
   "outputs": [],
   "source": [
    "test = pd.read_table(\"test.txt\", sep='\\t', header=None)"
   ]
  },
  {
   "cell_type": "code",
   "execution_count": 28,
   "metadata": {},
   "outputs": [],
   "source": [
    "test.columns = ['x', 'y']"
   ]
  },
  {
   "cell_type": "code",
   "execution_count": 29,
   "metadata": {},
   "outputs": [
    {
     "data": {
      "text/html": [
       "<div>\n",
       "<style scoped>\n",
       "    .dataframe tbody tr th:only-of-type {\n",
       "        vertical-align: middle;\n",
       "    }\n",
       "\n",
       "    .dataframe tbody tr th {\n",
       "        vertical-align: top;\n",
       "    }\n",
       "\n",
       "    .dataframe thead th {\n",
       "        text-align: right;\n",
       "    }\n",
       "</style>\n",
       "<table border=\"1\" class=\"dataframe\">\n",
       "  <thead>\n",
       "    <tr style=\"text-align: right;\">\n",
       "      <th></th>\n",
       "      <th>x</th>\n",
       "      <th>y</th>\n",
       "    </tr>\n",
       "  </thead>\n",
       "  <tbody>\n",
       "    <tr>\n",
       "      <th>0</th>\n",
       "      <td>0.10</td>\n",
       "      <td>0.39950</td>\n",
       "    </tr>\n",
       "    <tr>\n",
       "      <th>1</th>\n",
       "      <td>0.20</td>\n",
       "      <td>0.79601</td>\n",
       "    </tr>\n",
       "    <tr>\n",
       "      <th>2</th>\n",
       "      <td>0.45</td>\n",
       "      <td>1.75490</td>\n",
       "    </tr>\n",
       "    <tr>\n",
       "      <th>3</th>\n",
       "      <td>0.60</td>\n",
       "      <td>2.29393</td>\n",
       "    </tr>\n",
       "    <tr>\n",
       "      <th>4</th>\n",
       "      <td>0.85</td>\n",
       "      <td>3.10384</td>\n",
       "    </tr>\n",
       "    <tr>\n",
       "      <th>...</th>\n",
       "      <td>...</td>\n",
       "      <td>...</td>\n",
       "    </tr>\n",
       "    <tr>\n",
       "      <th>195</th>\n",
       "      <td>24.70</td>\n",
       "      <td>23.44192</td>\n",
       "    </tr>\n",
       "    <tr>\n",
       "      <th>196</th>\n",
       "      <td>24.75</td>\n",
       "      <td>23.62961</td>\n",
       "    </tr>\n",
       "    <tr>\n",
       "      <th>197</th>\n",
       "      <td>24.80</td>\n",
       "      <td>23.82009</td>\n",
       "    </tr>\n",
       "    <tr>\n",
       "      <th>198</th>\n",
       "      <td>24.85</td>\n",
       "      <td>24.01303</td>\n",
       "    </tr>\n",
       "    <tr>\n",
       "      <th>199</th>\n",
       "      <td>24.90</td>\n",
       "      <td>24.20806</td>\n",
       "    </tr>\n",
       "  </tbody>\n",
       "</table>\n",
       "<p>200 rows × 2 columns</p>\n",
       "</div>"
      ],
      "text/plain": [
       "         x         y\n",
       "0     0.10   0.39950\n",
       "1     0.20   0.79601\n",
       "2     0.45   1.75490\n",
       "3     0.60   2.29393\n",
       "4     0.85   3.10384\n",
       "..     ...       ...\n",
       "195  24.70  23.44192\n",
       "196  24.75  23.62961\n",
       "197  24.80  23.82009\n",
       "198  24.85  24.01303\n",
       "199  24.90  24.20806\n",
       "\n",
       "[200 rows x 2 columns]"
      ]
     },
     "execution_count": 29,
     "metadata": {},
     "output_type": "execute_result"
    }
   ],
   "source": [
    "test"
   ]
  },
  {
   "cell_type": "code",
   "execution_count": 30,
   "metadata": {},
   "outputs": [],
   "source": [
    "x_train = train.x\n",
    "y_train = train.y\n",
    "x_test = test.x\n",
    "y_test = test.y"
   ]
  },
  {
   "cell_type": "code",
   "execution_count": 31,
   "metadata": {},
   "outputs": [
    {
     "data": {
      "text/plain": [
       "((300,), (300,), (200,), (200,))"
      ]
     },
     "execution_count": 31,
     "metadata": {},
     "output_type": "execute_result"
    }
   ],
   "source": [
    "x_train.shape, y_train.shape, x_test.shape, y_test.shape"
   ]
  },
  {
   "cell_type": "code",
   "execution_count": 32,
   "metadata": {},
   "outputs": [],
   "source": [
    "ones = np.ones_like(x_train)"
   ]
  },
  {
   "cell_type": "code",
   "execution_count": 33,
   "metadata": {},
   "outputs": [
    {
     "data": {
      "text/plain": [
       "(300,)"
      ]
     },
     "execution_count": 33,
     "metadata": {},
     "output_type": "execute_result"
    }
   ],
   "source": [
    "ones.shape"
   ]
  },
  {
   "cell_type": "code",
   "execution_count": 34,
   "metadata": {},
   "outputs": [],
   "source": [
    "x_train = np.asarray(x_train)\n",
    "y_train = np.asarray(y_train)\n",
    "x_test = np.asarray(x_test)\n",
    "y_test = np.asarray(y_test)"
   ]
  },
  {
   "cell_type": "code",
   "execution_count": 35,
   "metadata": {},
   "outputs": [
    {
     "data": {
      "text/plain": [
       "((300,), (300,), (200,), (200,))"
      ]
     },
     "execution_count": 35,
     "metadata": {},
     "output_type": "execute_result"
    }
   ],
   "source": [
    "x_train.shape, y_train.shape, x_test.shape, y_test.shape"
   ]
  },
  {
   "cell_type": "code",
   "execution_count": 36,
   "metadata": {},
   "outputs": [],
   "source": [
    "x_train = x_train.reshape((1, -1))"
   ]
  },
  {
   "cell_type": "code",
   "execution_count": 37,
   "metadata": {},
   "outputs": [],
   "source": [
    "ones = ones.reshape((1, -1))"
   ]
  },
  {
   "cell_type": "code",
   "execution_count": 38,
   "metadata": {},
   "outputs": [],
   "source": [
    "x_train = np.concatenate([x_train, ones], axis=0)"
   ]
  },
  {
   "cell_type": "code",
   "execution_count": 39,
   "metadata": {},
   "outputs": [
    {
     "data": {
      "text/plain": [
       "(2, 300)"
      ]
     },
     "execution_count": 39,
     "metadata": {},
     "output_type": "execute_result"
    }
   ],
   "source": [
    "print(x_train.shape)\n",
    "print(y_train.shape)"
   ]
  },
  {
   "cell_type": "markdown",
   "metadata": {},
   "source": [
    "最小二乘法"
   ]
  },
  {
   "cell_type": "code",
   "execution_count": 40,
   "metadata": {},
   "outputs": [],
   "source": [
    "w = np.random.randn(2)"
   ]
  },
  {
   "cell_type": "code",
   "execution_count": 41,
   "metadata": {},
   "outputs": [
    {
     "data": {
      "text/plain": [
       "array([0.53487612, 1.43019112])"
      ]
     },
     "execution_count": 41,
     "metadata": {},
     "output_type": "execute_result"
    }
   ],
   "source": [
    "w"
   ]
  },
  {
   "cell_type": "code",
   "execution_count": 42,
   "metadata": {},
   "outputs": [],
   "source": [
    "w = np.linalg.inv(x_train@x_train.T)@x_train@y_train"
   ]
  },
  {
   "cell_type": "code",
   "execution_count": 43,
   "metadata": {},
   "outputs": [
    {
     "data": {
      "text/plain": [
       "array([0.94732599, 0.62680273])"
      ]
     },
     "execution_count": 43,
     "metadata": {},
     "output_type": "execute_result"
    }
   ],
   "source": [
    "w"
   ]
  },
  {
   "cell_type": "code",
   "execution_count": 44,
   "metadata": {},
   "outputs": [
    {
     "data": {
      "text/plain": [
       "[<matplotlib.lines.Line2D at 0x173ffc7fa60>]"
      ]
     },
     "execution_count": 44,
     "metadata": {},
     "output_type": "execute_result"
    },
    {
     "data": {
      "image/png": "[encoded data removed]",
      "text/plain": [
       "<Figure size 432x288 with 1 Axes>"
      ]
     },
     "metadata": {
      "needs_background": "light"
     },
     "output_type": "display_data"
    }
   ],
   "source": [
    "st = np.arange(25)\n",
    "plt.plot(w[0] * st + w[1])\n",
    "# plt.plot([1.1, 2.4])"
   ]
  },
  {
   "cell_type": "code",
   "execution_count": 45,
   "metadata": {},
   "outputs": [
    {
     "data": {
      "text/plain": [
       "[<matplotlib.lines.Line2D at 0x173ff965b50>]"
      ]
     },
     "execution_count": 45,
     "metadata": {},
     "output_type": "execute_result"
    },
    {
     "data": {
      "image/png": "[encoded data removed]",
      "text/plain": [
       "<Figure size 720x432 with 1 Axes>"
      ]
     },
     "metadata": {
      "needs_background": "light"
     },
     "output_type": "display_data"
    }
   ],
   "source": [
    "plt.figure(figsize=(10, 6))\n",
    "plt.scatter(train.x, train.y)\n",
    "plt.plot(w[0] * st + w[1])"
   ]
  },
  {
   "cell_type": "markdown",
   "metadata": {},
   "source": [
    "评估模型"
   ]
  },
  {
   "cell_type": "code",
   "execution_count": null,
   "metadata": {},
   "outputs": [],
   "source": []
  },
  {
   "cell_type": "code",
   "execution_count": 46,
   "metadata": {},
   "outputs": [
    {
     "data": {
      "text/plain": [
       "[<matplotlib.lines.Line2D at 0x173ffba52e0>]"
      ]
     },
     "execution_count": 46,
     "metadata": {},
     "output_type": "execute_result"
    },
    {
     "data": {
      "image/png": "[encoded data removed]",
      "text/plain": [
       "<Figure size 432x288 with 1 Axes>"
      ]
     },
     "metadata": {
      "needs_background": "light"
     },
     "output_type": "display_data"
    }
   ],
   "source": [
    "plt.plot(x_test, y_test)"
   ]
  },
  {
   "cell_type": "code",
   "execution_count": 47,
   "metadata": {},
   "outputs": [],
   "source": [
    "y_pred = w[0] * x_test + w[1]"
   ]
  },
  {
   "cell_type": "code",
   "execution_count": 48,
   "metadata": {},
   "outputs": [
    {
     "data": {
      "text/plain": [
       "(200,)"
      ]
     },
     "execution_count": 48,
     "metadata": {},
     "output_type": "execute_result"
    }
   ],
   "source": [
    "y_pred.shape"
   ]
  },
  {
   "cell_type": "code",
   "execution_count": 49,
   "metadata": {},
   "outputs": [],
   "source": [
    "test_std = np.sqrt(np.sum(np.square(y_test - y_pred)) / x_test.shape[0])"
   ]
  },
  {
   "cell_type": "code",
   "execution_count": 50,
   "metadata": {},
   "outputs": [
    {
     "name": "stdout",
     "output_type": "stream",
     "text": [
      "标准差为：2.1526930233725454\n"
     ]
    }
   ],
   "source": [
    "print(\"标准差为：{}\".format(test_std))"
   ]
  },
  {
   "cell_type": "markdown",
   "metadata": {},
   "source": [
    "梯度下降法"
   ]
  },
  {
   "cell_type": "code",
   "execution_count": 51,
   "metadata": {},
   "outputs": [],
   "source": [
    "# 超参数\n",
    "learning_rate = 0.01\n",
    "epochs = 50"
   ]
  },
  {
   "cell_type": "code",
   "execution_count": 52,
   "metadata": {},
   "outputs": [],
   "source": [
    "w2 = np.random.randn(2)"
   ]
  },
  {
   "cell_type": "code",
   "execution_count": 53,
   "metadata": {},
   "outputs": [
    {
     "data": {
      "text/plain": [
       "array([-0.64758953, -0.32787586])"
      ]
     },
     "execution_count": 53,
     "metadata": {},
     "output_type": "execute_result"
    }
   ],
   "source": [
    "w2"
   ]
  },
  {
   "cell_type": "code",
   "execution_count": 54,
   "metadata": {},
   "outputs": [
    {
     "name": "stdout",
     "output_type": "stream",
     "text": [
      "epoch 0\n",
      "loss: 270.85704831436664\n",
      "w: [974.23179408  60.20990032]\n",
      "epoch 1\n",
      "loss: 93786604.54510167\n",
      "w: [-575025.85779681  -35313.47904274]\n",
      "epoch 2\n",
      "loss: 32737667073815.88\n",
      "w: [3.39735989e+08 2.08641731e+07]\n",
      "epoch 3\n",
      "loss: 1.1427590053938266e+19\n",
      "w: [-2.00722019e+11 -1.23269214e+10]\n",
      "epoch 4\n",
      "loss: 3.988977410834659e+24\n",
      "w: [1.18590112e+14 7.28296277e+12]\n",
      "epoch 5\n",
      "loss: 1.3924143856267817e+30\n",
      "w: [-7.00651314e+16 -4.30290296e+15]\n",
      "epoch 6\n",
      "loss: 4.8604382066298215e+35\n",
      "w: [4.13957164e+19 2.54223102e+18]\n",
      "epoch 7\n",
      "loss: 1.696611282124385e+41\n",
      "w: [-2.44573200e+22 -1.50199496e+21]\n",
      "epoch 8\n",
      "loss: 5.922284617681963e+46\n",
      "w: [1.44498164e+25 8.87405138e+23]\n",
      "epoch 9\n",
      "loss: 2.0672652281856644e+52\n",
      "w: [-8.53720657e+27 -5.24294620e+26]\n",
      "epoch 10\n",
      "loss: 7.216109659616882e+57\n",
      "w: [5.04393234e+30 3.09762516e+29]\n",
      "epoch 11\n",
      "loss: 2.51889491051505e+63\n",
      "w: [-2.98004426e+33 -1.83013162e+32]\n",
      "epoch 12\n",
      "loss: 8.792593058453447e+68\n",
      "w: [1.76066275e+36 1.08127407e+35]\n",
      "epoch 13\n",
      "loss: 3.0691908729036987e+74\n",
      "w: [-1.04023063e+39 -6.38835807e+37]\n",
      "epoch 14\n",
      "loss: 1.0713486398939823e+80\n",
      "w: [6.14586621e+41 3.77435471e+40]\n",
      "epoch 15\n",
      "loss: 3.739708463021679e+85\n",
      "w: [-3.63108624e+44 -2.22995539e+43]\n",
      "epoch 16\n",
      "loss: 1.3054031962723101e+91\n",
      "w: [2.14530985e+47 1.31749701e+46]\n",
      "epoch 17\n",
      "loss: 4.556712165367757e+96\n",
      "w: [-1.26748693e+50 -7.78400488e+48]\n",
      "epoch 18\n",
      "loss: 1.5905910003363575e+102\n",
      "w: [7.48853650e+52 4.59892748e+51]\n",
      "epoch 19\n",
      "loss: 5.552204393289403e+107\n",
      "w: [-4.42435955e+55 -2.71712754e+54]\n",
      "epoch 20\n",
      "loss: 1.938082990432063e+113\n",
      "w: [2.61398972e+58 1.60532691e+57]\n",
      "epoch 21\n",
      "loss: 6.765179038332827e+118\n",
      "w: [-1.54439127e+61 -9.48455476e+59]\n",
      "epoch 22\n",
      "loss: 2.3614905887231746e+124\n",
      "w: [9.12453623e+63 5.60364238e+62]\n",
      "epoch 23\n",
      "loss: 8.243148879031599e+129\n",
      "w: [-5.39093707e+66 -3.31073083e+65]\n",
      "epoch 24\n",
      "loss: 2.877398866900386e+135\n",
      "w: [3.18506078e+69 1.95603822e+68]\n",
      "epoch 25\n",
      "loss: 1.0044006678443356e+141\n",
      "w: [-1.88179013e+72 -1.15566191e+71]\n",
      "epoch 26\n",
      "loss: 3.506016191119437e+146\n",
      "w: [1.11179483e+75 6.82785453e+73]\n",
      "epoch 27\n",
      "loss: 1.2238292870486929e+152\n",
      "w: [-6.56868009e+77 -4.03401698e+76]\n",
      "epoch 28\n",
      "loss: 4.2719657930612467e+157\n",
      "w: [3.88089215e+80 2.38336844e+79]\n",
      "epoch 29\n",
      "loss: 1.4911958661403817e+163\n",
      "w: [-2.29289959e+83 -1.40813615e+82]\n",
      "epoch 30\n",
      "loss: 5.205250273319034e+168\n",
      "w: [1.35468555e+86 8.31951691e+84]\n",
      "epoch 31\n",
      "loss: 1.8169732778307736e+174\n",
      "w: [-8.00372135e+88 -4.91531745e+87]\n",
      "epoch 32\n",
      "loss: 6.342426817156734e+179\n",
      "w: [4.72873986e+91 2.90405631e+90]\n",
      "epoch 33\n",
      "loss: 2.2139223741921984e+185\n",
      "w: [-2.79382298e+94 -1.71576773e+93]\n",
      "epoch 34\n",
      "loss: 7.728039156384167e+190\n",
      "w: [1.65063993e+97 1.01370586e+96]\n",
      "epoch 35\n",
      "loss: 2.6975918351427335e+196\n",
      "w: [-9.75227209e+99 -5.98915317e+98]\n",
      "epoch 36\n",
      "loss: 9.416362367958729e+201\n",
      "w: [5.76181449e+102 3.53849742e+101]\n",
      "epoch 37\n",
      "loss: 3.286927217438652e+207\n",
      "w: [-3.40418171e+105 -2.09060673e+104]\n",
      "epoch 38\n",
      "loss: 1.1473528853882724e+213\n",
      "w: [2.01125064e+108 1.23516736e+107]\n",
      "epoch 39\n",
      "loss: 4.0050130609056155e+218\n",
      "w: [-1.18828238e+111 -7.29758680e+109]\n",
      "epoch 40\n",
      "loss: 1.398011877801351e+224\n",
      "w: [7.02058208e+113 4.31154310e+112]\n",
      "epoch 41\n",
      "loss: 4.879977120553311e+229\n",
      "w: [-4.14788382e+116 -2.54733577e+115]\n",
      "epoch 42\n",
      "loss: 1.7034316428395637e+235\n",
      "w: [2.45064298e+119 1.50501094e+118]\n",
      "epoch 43\n",
      "loss: 5.946092143764173e+240\n",
      "w: [-1.44788313e+122 -8.89187029e+120]\n",
      "epoch 44\n",
      "loss: 2.0755756141289418e+246\n",
      "w: [8.55434911e+124 5.25347392e+123]\n",
      "epoch 45\n",
      "loss: 7.245118349678901e+251\n",
      "w: [-5.05406045e+127 -3.10384513e+126]\n",
      "epoch 46\n",
      "loss: 2.5290208433520806e+257\n",
      "w: [2.98602813e+130 1.83380649e+129]\n",
      "epoch 47\n",
      "loss: 8.827939196317942e+262\n",
      "w: [-1.76419813e+133 -1.08344524e+132]\n",
      "epoch 48\n",
      "loss: 3.081528990112684e+268\n",
      "w: [1.04231940e+136 6.40118576e+134]\n",
      "epoch 49\n",
      "loss: 1.0756554509194543e+274\n",
      "w: [-6.15820698e+138 -3.78193354e+137]\n"
     ]
    }
   ],
   "source": [
    "for epoch in range(epochs):\n",
    "    print(\"epoch {}\".format(epoch))\n",
    "    loss = np.sum(np.square(y_train - x_train.T@w2)) / (2*300)\n",
    "    print(\"loss: {}\".format(loss))\n",
    "    grad = x_train@x_train.T@w2 - x_train@y_train\n",
    "    w2 = w2 - learning_rate * grad\n",
    "    print(\"w:\", w2)"
   ]
  },
  {
   "cell_type": "code",
   "execution_count": 55,
   "metadata": {},
   "outputs": [
    {
     "data": {
      "text/plain": [
       "array([-6.15820698e+138, -3.78193354e+137])"
      ]
     },
     "execution_count": 55,
     "metadata": {},
     "output_type": "execute_result"
    }
   ],
   "source": [
    "w2"
   ]
  },
  {
   "cell_type": "code",
   "execution_count": null,
   "metadata": {},
   "outputs": [],
   "source": []
  },
  {
   "cell_type": "code",
   "execution_count": null,
   "metadata": {},
   "outputs": [],
   "source": []
  }
 ],
 "metadata": {
  "kernelspec": {
   "display_name": "Python 3",
   "language": "python",
   "name": "python3"
  },
  "language_info": {
   "codemirror_mode": {
    "name": "ipython",
    "version": 3
   },
   "file_extension": ".py",
   "mimetype": "text/x-python",
   "name": "python",
   "nbconvert_exporter": "python",
   "pygments_lexer": "ipython3",
   "version": "3.7.7"
  }
 },
 "nbformat": 4,
 "nbformat_minor": 4
}
